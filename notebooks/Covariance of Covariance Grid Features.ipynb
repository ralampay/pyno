{
 "cells": [
  {
   "cell_type": "markdown",
   "id": "27635ab0",
   "metadata": {},
   "source": [
    "# Covariance of Covariance Grid Features\n",
    "\n",
    "Extract features from a given image by first dividing it into a grid given `cell_width` and `cell_height`. For each cell in the image, compute for the covariance of each patch. Values are normalized locally."
   ]
  },
  {
   "cell_type": "code",
   "execution_count": 1,
   "id": "c4434387",
   "metadata": {},
   "outputs": [],
   "source": [
    "import sys\n",
    "import os\n",
    "import cv2\n",
    "from matplotlib import pyplot as plt\n",
    "\n",
    "sys.path.append(os.path.join(os.path.abspath(''), '../pyno/lib'))\n",
    "\n",
    "from cv.utils import fetch_patches\n",
    "from cv.features import covariance_grid_vector"
   ]
  },
  {
   "cell_type": "code",
   "execution_count": 3,
   "id": "04ebb23a",
   "metadata": {},
   "outputs": [
    {
     "name": "stdout",
     "output_type": "stream",
     "text": [
      "[0.35955116 0.10137997 0.07473832 0.14523264 0.04396617 0.09665253\n",
      " 0.0573525  0.02422385 0.10682578 0.17858695 0.1075419  0.07765251\n",
      " 0.13171082 0.17702141 0.05029022 0.01791335 0.04088233 0.02204462\n",
      " 0.13346928 0.25404635 0.04575823 0.13224117 0.1016195  0.06948663\n",
      " 0.040859   0.0434956  0.01881156 0.29514528 0.28957156 0.01491556\n",
      " 0.0522195  0.09849877 0.17765555 0.0854644  0.00612024 0.05176891\n",
      " 0.03193971 0.40251774 1.         0.19787867 0.18814364 0.07223671\n",
      " 0.05851539 0.13964222 0.06609225 0.04064279 0.09276658 0.20206825\n",
      " 0.76625598 0.38582561 0.25793591 0.09482138 0.23930187 0.09795175\n",
      " 0.08146045 0.23752473 0.053339   0.2924218  0.80282071 0.68110048\n",
      " 0.38946529 0.2414072  0.13730038 0.14370024 0.19528164 0.24662501\n",
      " 0.10504388 0.91328326 0.9797926  0.3946532  0.40653416 0.24538057\n",
      " 0.08728643 0.251422   0.24941061 0.28480663 0.18100906 0.28604775\n",
      " 0.21863091 0.14678801 0.45732018 0.23194194 0.14323498 0.09220679\n",
      " 0.34575167 0.22417358 0.02786199 0.26455732 0.25027411 0.08369716\n",
      " 0.62968525 0.31789867 0.23768801 0.24057926 0.68916984 0.42278318\n",
      " 0.01610308 0.25639784 0.26094246 0.59493461 0.30791653 0.36313636\n",
      " 0.16684641 0.537406   0.65451128 0.20438021 0.03327249 0.45169098\n",
      " 0.57605621 0.87188964 0.6672558  0.49710522 0.16885096 0.22834252\n",
      " 0.22293642 0.19306225 0.51467143 0.51252679 0.62545867 0.95054794\n",
      " 0.89725004 0.24950378 0.24629847 0.3354188  0.16130695 0.15747509\n",
      " 0.43291367 0.4050371  0.53406638 0.36012928 0.50187472 0.69985281\n",
      " 0.12930579 0.11274267 0.05696715 0.26502563 0.23884374 0.24028801\n",
      " 0.53046438 0.11072698 0.39328064 0.11003586 0.07676894 0.246026  ]\n",
      "(144,)\n"
     ]
    }
   ],
   "source": [
    "image = cv2.imread(\"./images/00001.jpg\")\n",
    "gray = cv2.cvtColor(image, cv2.COLOR_BGR2GRAY)\n",
    "\n",
    "cell_width = 80\n",
    "cell_height = 80\n",
    "\n",
    "feature_vector = covariance_grid_vector(image, cell_width, cell_height)\n",
    "print(feature_vector)\n",
    "print(feature_vector.shape)"
   ]
  },
  {
   "cell_type": "code",
   "execution_count": null,
   "id": "09878f59",
   "metadata": {},
   "outputs": [],
   "source": []
  }
 ],
 "metadata": {
  "kernelspec": {
   "display_name": "Python 3 (ipykernel)",
   "language": "python",
   "name": "python3"
  },
  "language_info": {
   "codemirror_mode": {
    "name": "ipython",
    "version": 3
   },
   "file_extension": ".py",
   "mimetype": "text/x-python",
   "name": "python",
   "nbconvert_exporter": "python",
   "pygments_lexer": "ipython3",
   "version": "3.9.5"
  }
 },
 "nbformat": 4,
 "nbformat_minor": 5
}
