{
 "cells": [
  {
   "cell_type": "markdown",
   "id": "27635ab0",
   "metadata": {},
   "source": [
    "# Covariance of Covariance Grid Features\n",
    "\n",
    "Extract features from a given image by first dividing it into a grid given `cell_width` and `cell_height`. For each cell in the image, compute for the covariance of each patch. Values are normalized locally."
   ]
  },
  {
   "cell_type": "code",
   "execution_count": null,
   "id": "c4434387",
   "metadata": {},
   "outputs": [],
   "source": [
    "import sys\n",
    "import os\n",
    "import cv2\n",
    "from matplotlib import pyplot as plt\n",
    "\n",
    "sys.path.append(os.path.join(os.path.abspath(''), '../pyno/lib'))\n",
    "\n",
    "from cv.utils import fetch_patches\n",
    "from cv.features import covariance_grid_vector"
   ]
  },
  {
   "cell_type": "code",
   "execution_count": null,
   "id": "04ebb23a",
   "metadata": {},
   "outputs": [],
   "source": [
    "image = cv2.imread(\"./images/00001.jpg\")\n",
    "gray = cv2.cvtColor(image, cv2.COLOR_BGR2GRAY)\n",
    "\n",
    "cell_width = 80\n",
    "cell_height = 80\n",
    "\n",
    "feature_vector = covariance_grid_vector(image, cell_width, cell_height)\n",
    "print(feature_vector)\n",
    "print(feature_vector.shape)"
   ]
  },
  {
   "cell_type": "code",
   "execution_count": null,
   "id": "09878f59",
   "metadata": {},
   "outputs": [],
   "source": []
  }
 ],
 "metadata": {
  "kernelspec": {
   "display_name": "Python 3 (ipykernel)",
   "language": "python",
   "name": "python3"
  },
  "language_info": {
   "codemirror_mode": {
    "name": "ipython",
    "version": 3
   },
   "file_extension": ".py",
   "mimetype": "text/x-python",
   "name": "python",
   "nbconvert_exporter": "python",
   "pygments_lexer": "ipython3",
   "version": "3.9.5"
  }
 },
 "nbformat": 4,
 "nbformat_minor": 5
}
