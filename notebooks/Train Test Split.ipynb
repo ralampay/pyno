{
 "cells": [
  {
   "cell_type": "markdown",
   "id": "ef9c8249",
   "metadata": {},
   "source": [
    "# Train and Test Split\n",
    "\n",
    "Splits the data into a training data file and testing data file based on parameters set.\n",
    "\n",
    "## Parameters\n",
    "\n",
    "1. `data_file`: The data file in CSV with format `x1,x2,x3...y` where `y` is `1` if row is nominal point and `-1` if row is anomaly point.\n",
    "\n",
    "2. `percent_anomaly`: The ratio of anomalies for validation.\n",
    "\n",
    "3. `train_file`: The output training file in CSV with format `x1,x2,x3...xn`\n",
    "\n",
    "4. `validation_file`: The output validation file in CSV with format `x1,x2,x3...y` where `y` is `1` for nominal points and `-1` for outlier points."
   ]
  },
  {
   "cell_type": "code",
   "execution_count": 1,
   "id": "fc6e47c7",
   "metadata": {},
   "outputs": [],
   "source": [
    "import pandas as pd"
   ]
  },
  {
   "cell_type": "code",
   "execution_count": 2,
   "id": "eff76295",
   "metadata": {},
   "outputs": [],
   "source": [
    "data_file = \"/home/ralampay/workspace/pyno/data/creditcardfraud.csv\"\n",
    "percent_anomaly = 0.05\n",
    "percent_training = 0.7\n",
    "train_file = \"~/Desktop/creditcardfraud_train.csv\"\n",
    "validation_file = \"~/Desktop/creditcardfraud_validation.csv\"\n",
    "chunk_size = 1000"
   ]
  },
  {
   "cell_type": "code",
   "execution_count": 3,
   "id": "d4eff486",
   "metadata": {},
   "outputs": [],
   "source": [
    "data = pd.DataFrame()\n",
    "\n",
    "for i, chunk in enumerate(pd.read_csv(data_file, header=None, chunksize=chunk_size)):\n",
    "    data = data.append(chunk)\n",
    "\n",
    "input_dim = len(data.columns) - 1\n",
    "\n",
    "nominal_data = data[data[input_dim] == 1]\n",
    "anomaly_data = data[data[input_dim] == -1]\n",
    "\n",
    "training_data = nominal_data.sample(frac=percent_training).iloc[:,:input_dim]\n",
    "validation_data = nominal_data.drop(training_data.index)"
   ]
  },
  {
   "cell_type": "code",
   "execution_count": 4,
   "id": "5a212f36",
   "metadata": {},
   "outputs": [
    {
     "name": "stdout",
     "output_type": "stream",
     "text": [
      "Percent Anomaly: 0.05\n",
      "Number of anomalies: 4289\n",
      "Num Training Data: 199020\n",
      "Num Validation Data: 89584\n",
      "Num Validation Anomalies: 4289\n",
      "Num Validation Nominal: 85295\n",
      "Saving training data to ~/Desktop/creditcardfraud_train.csv\n",
      "Saving validation data to ~/Desktop/creditcardfraud_validation.csv\n"
     ]
    }
   ],
   "source": [
    "number_of_anomalies = int(percent_anomaly * (len(validation_data) + len(anomaly_data)))\n",
    "\n",
    "print(\"Percent Anomaly: {}\".format(percent_anomaly))\n",
    "print(\"Number of anomalies: {}\".format(number_of_anomalies))\n",
    "\n",
    "sampled_anomalies = anomaly_data.sample(n=number_of_anomalies, replace=True)\n",
    "\n",
    "validation_data = pd.concat([validation_data, sampled_anomalies])\n",
    "\n",
    "num_training_data = len(training_data)\n",
    "num_validation_data = len(validation_data)\n",
    "num_validation_anomalies = len(validation_data[validation_data[input_dim] == -1])\n",
    "num_validation_nominal = len(validation_data[validation_data[input_dim] == 1])\n",
    "\n",
    "print(\"Num Training Data: {}\".format(num_training_data))\n",
    "print(\"Num Validation Data: {}\".format(num_validation_data))\n",
    "print(\"Num Validation Anomalies: {}\".format(num_validation_anomalies))\n",
    "print(\"Num Validation Nominal: {}\".format(num_validation_nominal))\n",
    "\n",
    "print(\"Saving training data to {}\".format(train_file))\n",
    "training_data.to_csv(train_file, header=False, index=False)\n",
    "\n",
    "print(\"Saving validation data to {}\".format(validation_file))\n",
    "validation_data.to_csv(validation_file, header=False, index=False)"
   ]
  },
  {
   "cell_type": "code",
   "execution_count": null,
   "id": "f1954428",
   "metadata": {},
   "outputs": [],
   "source": []
  }
 ],
 "metadata": {
  "kernelspec": {
   "display_name": "Python 3 (ipykernel)",
   "language": "python",
   "name": "python3"
  },
  "language_info": {
   "codemirror_mode": {
    "name": "ipython",
    "version": 3
   },
   "file_extension": ".py",
   "mimetype": "text/x-python",
   "name": "python",
   "nbconvert_exporter": "python",
   "pygments_lexer": "ipython3",
   "version": "3.9.5"
  }
 },
 "nbformat": 4,
 "nbformat_minor": 5
}
