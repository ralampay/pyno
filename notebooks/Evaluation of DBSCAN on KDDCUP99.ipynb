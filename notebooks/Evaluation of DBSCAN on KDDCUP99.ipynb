{
 "cells": [
  {
   "cell_type": "code",
   "execution_count": 1,
   "id": "d2d39a83",
   "metadata": {},
   "outputs": [],
   "source": [
    "from sklearn.cluster import DBSCAN\n",
    "import numpy as np\n",
    "import pandas as pd\n",
    "import sys\n",
    "import os\n",
    "sys.path.append(os.path.join(os.path.abspath(''), '../pyno/lib'))\n",
    "from utils import performance_metrics\n",
    "import hdbscan"
   ]
  },
  {
   "cell_type": "code",
   "execution_count": 2,
   "id": "0d65b73a",
   "metadata": {},
   "outputs": [],
   "source": [
    "data_file = \"/home/ralampay/workspace/pyno/data/kddcup99-unsupervised-validation.csv\"\n",
    "data_file = \"/home/ralampay/workspace/pyno/data/kddcup99-compressed-validation.csv\"\n",
    "\n",
    "chunk_size = 1000"
   ]
  },
  {
   "cell_type": "code",
   "execution_count": 3,
   "id": "d2b3a6c2",
   "metadata": {},
   "outputs": [],
   "source": [
    "data = pd.DataFrame()\n",
    "\n",
    "for i, chunk in enumerate(pd.read_csv(data_file, header=None, chunksize=chunk_size)):\n",
    "    data = data.append(chunk)"
   ]
  },
  {
   "cell_type": "code",
   "execution_count": 4,
   "id": "7303b757",
   "metadata": {},
   "outputs": [],
   "source": [
    "input_dim = len(data.columns) - 1\n",
    "\n",
    "X = data.iloc[:,:input_dim].values\n",
    "clustering = hdbscan.HDBSCAN().fit(X)\n",
    "\n",
    "y = []\n",
    "for r in data.iloc[:,-1:].values:\n",
    "    y.append(r[0])\n",
    "\n",
    "y = np.array(y)"
   ]
  },
  {
   "cell_type": "code",
   "execution_count": 5,
   "id": "32dcf9c9",
   "metadata": {},
   "outputs": [
    {
     "name": "stdout",
     "output_type": "stream",
     "text": [
      "{'tp': 10508, 'tn': 19, 'fp': 30, 'fn': 3870, 'tpr': 0.7308387814716929, 'tnr': 0.3877551020408163, 'fpr': 0.6122448979591837, 'fnr': 0.26916121852830716, 'ppv': 0.9971531599924084, 'npv': 0.004885574697865775, 'ts': 0.7293170460855081, 'pt': 0.4778818782461736, 'acc': 0.7296735288001663, 'f1': 0.8434740728848933, 'mcc': 0.015549323598513543}\n"
     ]
    }
   ],
   "source": [
    "clustered_labels = clustering.labels_\n",
    "\n",
    "predictions = []\n",
    "\n",
    "for i in clustered_labels:\n",
    "    if i != -1:\n",
    "        predictions.append(1)\n",
    "    else:\n",
    "        predictions.append(-1)\n",
    "        \n",
    "metrics = performance_metrics(y, predictions)\n",
    "print(metrics)"
   ]
  },
  {
   "cell_type": "code",
   "execution_count": null,
   "id": "2e3a06ef",
   "metadata": {},
   "outputs": [],
   "source": []
  }
 ],
 "metadata": {
  "kernelspec": {
   "display_name": "Python 3 (ipykernel)",
   "language": "python",
   "name": "python3"
  },
  "language_info": {
   "codemirror_mode": {
    "name": "ipython",
    "version": 3
   },
   "file_extension": ".py",
   "mimetype": "text/x-python",
   "name": "python",
   "nbconvert_exporter": "python",
   "pygments_lexer": "ipython3",
   "version": "3.9.7"
  }
 },
 "nbformat": 4,
 "nbformat_minor": 5
}
