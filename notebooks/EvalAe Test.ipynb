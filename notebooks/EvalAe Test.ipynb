{
 "cells": [
  {
   "cell_type": "markdown",
   "id": "ac3a4b2c",
   "metadata": {},
   "source": [
    "# EvalAe Test\n",
    "\n",
    "Notebook for testing class `EvalAe` process namely:\n",
    "\n",
    "1. Initialization with validation data set\n",
    "2. Load trained autoencoder\n",
    "3. Extract performance metrics"
   ]
  },
  {
   "cell_type": "code",
   "execution_count": 1,
   "id": "42edddc2",
   "metadata": {},
   "outputs": [],
   "source": [
    "# Import necessary libraries and path relative to project\n",
    "import torch\n",
    "import pandas as pd\n",
    "\n",
    "import sys\n",
    "import os\n",
    "\n",
    "sys.path.append(os.path.join(os.path.abspath(''), '../pyno/lib'))\n",
    "sys.path.append(os.path.join(os.path.abspath(''), '../pyno/modules'))\n",
    "\n",
    "from autoencoder import Autoencoder\n",
    "from eval_ae import EvalAe\n",
    "\n",
    "from sklearn.metrics import confusion_matrix"
   ]
  },
  {
   "cell_type": "code",
   "execution_count": 2,
   "id": "c220ed52",
   "metadata": {},
   "outputs": [],
   "source": [
    "# Parameters\n",
    "model_file = '/home/ralampay/workspace/pyno/model.pth'\n",
    "test_file = '~/Desktop/creditcardfraud_validation.csv'\n",
    "chunk_size = 1000\n",
    "\n",
    "params = {\n",
    "    'model_file': model_file,\n",
    "    'test_file': test_file,\n",
    "    'chunk_size': chunk_size\n",
    "}"
   ]
  },
  {
   "cell_type": "code",
   "execution_count": 3,
   "id": "d84994e8",
   "metadata": {},
   "outputs": [],
   "source": [
    "cmd = EvalAe(params)\n",
    "cmd.execute()"
   ]
  },
  {
   "cell_type": "code",
   "execution_count": 4,
   "id": "f5f7daa0",
   "metadata": {},
   "outputs": [
    {
     "name": "stdout",
     "output_type": "stream",
     "text": [
      "TP: 82628 (96.87320475995077%)\n",
      "TN: 3625 (84.51853578922825%)\n"
     ]
    }
   ],
   "source": [
    "metrics = cmd.metrics\n",
    "\n",
    "print(\"True Positive: {} ({}%)\".format(metrics['tp'], metrics['tpr'] * 100))\n",
    "print(\"True Negative: {} ({}%)\".format(metrics['tn'], metrics['tnr'] * 100))\n",
    "print(\"False Positive: {} ({}%)\".format(metrics['fp'], metrics['fpr'] * 100))\n",
    "print(\"False Negative: {} ({}%)\".format(metrics['fn'], metrics['']))"
   ]
  },
  {
   "cell_type": "code",
   "execution_count": null,
   "id": "2bed2fba",
   "metadata": {},
   "outputs": [],
   "source": []
  }
 ],
 "metadata": {
  "kernelspec": {
   "display_name": "Python 3 (ipykernel)",
   "language": "python",
   "name": "python3"
  },
  "language_info": {
   "codemirror_mode": {
    "name": "ipython",
    "version": 3
   },
   "file_extension": ".py",
   "mimetype": "text/x-python",
   "name": "python",
   "nbconvert_exporter": "python",
   "pygments_lexer": "ipython3",
   "version": "3.9.5"
  }
 },
 "nbformat": 4,
 "nbformat_minor": 5
}
