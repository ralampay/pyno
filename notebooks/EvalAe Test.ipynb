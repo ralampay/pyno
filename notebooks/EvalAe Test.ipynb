{
 "cells": [
  {
   "cell_type": "markdown",
   "id": "bb99108b",
   "metadata": {},
   "source": [
    "# EvalAe Test\n",
    "\n",
    "Notebook for testing class `EvalAe` process namely:\n",
    "\n",
    "1. Initialization with validation data set\n",
    "2. Load trained autoencoder\n",
    "3. Extract performance metrics"
   ]
  },
  {
   "cell_type": "code",
   "execution_count": 1,
   "id": "88631a07",
   "metadata": {},
   "outputs": [],
   "source": [
    "# Import necessary libraries and path relative to project\n",
    "import torch\n",
    "import pandas as pd\n",
    "import numpy as np\n",
    "import matplotlib.pyplot as plt\n",
    "\n",
    "import sys\n",
    "import os\n",
    "\n",
    "sys.path.append(os.path.join(os.path.abspath(''), '../pyno/lib'))\n",
    "sys.path.append(os.path.join(os.path.abspath(''), '../pyno/modules'))\n",
    "\n",
    "from autoencoder import Autoencoder\n",
    "from eval_ae import EvalAe\n",
    "\n",
    "from sklearn.metrics import confusion_matrix\n",
    "from sklearn import metrics\n",
    "from sklearn.metrics import roc_curve, auc\n",
    "from sklearn.preprocessing import label_binarize"
   ]
  },
  {
   "cell_type": "code",
   "execution_count": 2,
   "id": "a3fb351c",
   "metadata": {},
   "outputs": [],
   "source": [
    "# Parameters\n",
    "model_file = '/home/ralampay/workspace/pyno/models/backdoor-neural.pth'\n",
    "test_file = '/home/ralampay/workspace/pyno/data/backdoor-validation.csv'\n",
    "chunk_size = 1000\n",
    "\n",
    "params = {\n",
    "    'model_file': model_file,\n",
    "    'test_file': test_file,\n",
    "    'chunk_size': chunk_size\n",
    "}"
   ]
  },
  {
   "cell_type": "code",
   "execution_count": 3,
   "id": "e79326a5",
   "metadata": {},
   "outputs": [
    {
     "name": "stdout",
     "output_type": "stream",
     "text": [
      "Test File: /home/ralampay/workspace/pyno/data/backdoor-validation.csv\n",
      "Model File: /home/ralampay/workspace/pyno/models/backdoor-neural.pth\n",
      "╒═════════════════════╤═════════╕\n",
      "│ Metric              │ Value   │\n",
      "╞═════════════════════╪═════════╡\n",
      "│ True Positive       │ 25788   │\n",
      "├─────────────────────┼─────────┤\n",
      "│ True Negative       │ 349     │\n",
      "├─────────────────────┼─────────┤\n",
      "│ False Positive      │ 316     │\n",
      "├─────────────────────┼─────────┤\n",
      "│ False Negative      │ 2111    │\n",
      "├─────────────────────┼─────────┤\n",
      "│ True Positive Rate  │ 92.43%  │\n",
      "├─────────────────────┼─────────┤\n",
      "│ True Negative Rate  │ 52.48%  │\n",
      "├─────────────────────┼─────────┤\n",
      "│ False Positive Rate │ 47.52%  │\n",
      "├─────────────────────┼─────────┤\n",
      "│ False Negative Rate │ 7.57%   │\n",
      "├─────────────────────┼─────────┤\n",
      "│ PPV                 │ 98.79%  │\n",
      "├─────────────────────┼─────────┤\n",
      "│ NPV                 │ 14.19%  │\n",
      "├─────────────────────┼─────────┤\n",
      "│ TS                  │ 91.4%   │\n",
      "├─────────────────────┼─────────┤\n",
      "│ PT                  │ 41.76%  │\n",
      "├─────────────────────┼─────────┤\n",
      "│ Accuracy            │ 91.5%   │\n",
      "├─────────────────────┼─────────┤\n",
      "│ F1                  │ 95.51%  │\n",
      "├─────────────────────┼─────────┤\n",
      "│ MCC                 │ 0.24    │\n",
      "╘═════════════════════╧═════════╛\n"
     ]
    }
   ],
   "source": [
    "cmd = EvalAe(params)\n",
    "cmd.execute()"
   ]
  },
  {
   "cell_type": "code",
   "execution_count": 4,
   "id": "3ee0d339",
   "metadata": {},
   "outputs": [
    {
     "data": {
      "image/png": "[encoded data removed]",
      "text/plain": [
       "<Figure size 432x288 with 1 Axes>"
      ]
     },
     "metadata": {
      "needs_background": "light"
     },
     "output_type": "display_data"
    }
   ],
   "source": [
    "chunksize = 100\n",
    "data = pd.DataFrame()\n",
    "\n",
    "for i, chunk in enumerate(pd.read_csv(test_file, header=None, chunksize=chunksize)):\n",
    "    data = data.append(chunk)\n",
    "\n",
    "y = []\n",
    "for r in data.iloc[:,-1:].values:\n",
    "    y.append(r[0])\n",
    "\n",
    "y = np.array(y)\n",
    "scores = cmd.probabilities\n",
    "fpr, tpr, thresholds = metrics.roc_curve(y, scores, pos_label=1)\n",
    "roc_auc = auc(fpr, tpr)\n",
    "\n",
    "plt.figure()\n",
    "lw = 2\n",
    "plt.plot(fpr, tpr, color='darkorange',\n",
    "         lw=lw, label='ROC curve (area = %0.2f)' % roc_auc)\n",
    "plt.plot([0, 1], [0, 1], color='navy', lw=lw, linestyle='--')\n",
    "plt.xlim([0.0, 1.0])\n",
    "plt.ylim([0.0, 1.05])\n",
    "plt.xlabel('False Positive Rate')\n",
    "plt.ylabel('True Positive Rate')\n",
    "plt.title('ROC')\n",
    "plt.legend(loc=\"lower right\")\n",
    "plt.show()"
   ]
  },
  {
   "cell_type": "code",
   "execution_count": null,
   "id": "bc1420f3",
   "metadata": {},
   "outputs": [],
   "source": []
  }
 ],
 "metadata": {
  "kernelspec": {
   "display_name": "Python 3 (ipykernel)",
   "language": "python",
   "name": "python3"
  },
  "language_info": {
   "codemirror_mode": {
    "name": "ipython",
    "version": 3
   },
   "file_extension": ".py",
   "mimetype": "text/x-python",
   "name": "python",
   "nbconvert_exporter": "python",
   "pygments_lexer": "ipython3",
   "version": "3.9.7"
  }
 },
 "nbformat": 4,
 "nbformat_minor": 5
}
