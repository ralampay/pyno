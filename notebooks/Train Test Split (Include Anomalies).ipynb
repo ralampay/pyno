{
 "cells": [
  {
   "cell_type": "markdown",
   "id": "ef9c8249",
   "metadata": {},
   "source": [
    "# Train and Test Split\n",
    "\n",
    "Splits the data into a training data file and testing data file based on parameters set.\n",
    "\n",
    "## Parameters\n",
    "\n",
    "1. `data_file`: The data file in CSV with format `x1,x2,x3...y` where `y` is `1` if row is nominal point and `-1` if row is anomaly point.\n",
    "\n",
    "2. `percent_anomaly`: The ratio of anomalies for validation.\n",
    "\n",
    "3. `train_file`: The output training file in CSV with format `x1,x2,x3...xn`\n",
    "\n",
    "4. `validation_file`: The output validation file in CSV with format `x1,x2,x3...y` where `y` is `1` for nominal points and `-1` for outlier points."
   ]
  },
  {
   "cell_type": "code",
   "execution_count": null,
   "id": "fc6e47c7",
   "metadata": {},
   "outputs": [],
   "source": [
    "import pandas as pd"
   ]
  },
  {
   "cell_type": "code",
   "execution_count": null,
   "id": "eff76295",
   "metadata": {},
   "outputs": [],
   "source": [
    "data_file = \"/home/ralampay/workspace/pyno/data/creditcardfraud.csv\"\n",
    "percent_anomaly = 0.05\n",
    "percent_training = 0.7\n",
    "train_file = \"~/Desktop/creditcardfraud_unsupervised_train.csv\"\n",
    "validation_file = \"~/Desktop/creditcardfraud_unsupervised_validation.csv\"\n",
    "chunk_size = 1000"
   ]
  },
  {
   "cell_type": "code",
   "execution_count": null,
   "id": "d4eff486",
   "metadata": {},
   "outputs": [],
   "source": [
    "data = pd.DataFrame()\n",
    "\n",
    "for i, chunk in enumerate(pd.read_csv(data_file, header=None, chunksize=chunk_size)):\n",
    "    data = data.append(chunk)\n",
    "\n",
    "input_dim = len(data.columns) - 1\n",
    "\n",
    "training_data = data.sample(frac=percent_training).iloc[:,:input_dim]\n",
    "validation_data = data.drop(training_data.index)"
   ]
  },
  {
   "cell_type": "code",
   "execution_count": null,
   "id": "5a212f36",
   "metadata": {},
   "outputs": [],
   "source": [
    "print(\"Saving training data to {}\".format(train_file))\n",
    "training_data.to_csv(train_file, header=False, index=False)\n",
    "\n",
    "print(\"Saving validation data to {}\".format(validation_file))\n",
    "validation_data.to_csv(validation_file, header=False, index=False)"
   ]
  },
  {
   "cell_type": "code",
   "execution_count": null,
   "id": "f1954428",
   "metadata": {},
   "outputs": [],
   "source": []
  }
 ],
 "metadata": {
  "kernelspec": {
   "display_name": "Python 3 (ipykernel)",
   "language": "python",
   "name": "python3"
  },
  "language_info": {
   "codemirror_mode": {
    "name": "ipython",
    "version": 3
   },
   "file_extension": ".py",
   "mimetype": "text/x-python",
   "name": "python",
   "nbconvert_exporter": "python",
   "pygments_lexer": "ipython3",
   "version": "3.9.5"
  }
 },
 "nbformat": 4,
 "nbformat_minor": 5
}
