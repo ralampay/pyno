{
 "cells": [
  {
   "cell_type": "code",
   "execution_count": null,
   "id": "fa092eb7",
   "metadata": {},
   "outputs": [],
   "source": [
    "# Import necessary libraries and path relative to project\n",
    "import torch\n",
    "import pandas as pd\n",
    "from torch.utils.data import Dataset, DataLoader\n",
    "import torch.optim as optim\n",
    "import cv2\n",
    "import glob\n",
    "import numpy as np\n",
    "import math\n",
    "from matplotlib import pyplot as plt\n",
    "from torchvision import transforms\n",
    "from matplotlib import pyplot as plt\n",
    "\n",
    "%matplotlib inline\n",
    "\n",
    "import sys\n",
    "import os\n",
    "\n",
    "sys.path.append(os.path.join(os.path.abspath(''), '../../pyno/lib'))\n",
    "\n",
    "from cnn_autoencoder import CnnAutoencoder\n",
    "from abstract_dataset import AbstractDataset\n",
    "from cv.utils import load_image_tensors"
   ]
  },
  {
   "cell_type": "code",
   "execution_count": null,
   "id": "0fd6adef",
   "metadata": {},
   "outputs": [],
   "source": [
    "model_file = \"/home/ralampay/workspace/pyno/models/jetfighters-masked-cnn.pth\"\n",
    "state = torch.load(model_file)\n",
    "params = state['params']\n",
    "\n",
    "o_activation = params['o_activation']\n",
    "h_activation = params['h_activation']\n",
    "channel_maps = params['channel_maps']\n",
    "device = params['device']\n",
    "scale = params['scale']\n",
    "padding = params['padding']\n",
    "kernel_size = params['kernel_size']\n",
    "num_channels = params['num_channels']\n",
    "img_width = params['img_width']\n",
    "img_height = params['img_height']"
   ]
  },
  {
   "cell_type": "code",
   "execution_count": null,
   "id": "c89ca8b1",
   "metadata": {},
   "outputs": [],
   "source": [
    "model = CnnAutoencoder(\n",
    "            scale=scale,\n",
    "            channel_maps=channel_maps,\n",
    "            padding=padding,\n",
    "            kernel_size=kernel_size,\n",
    "            num_channels=num_channels,\n",
    "            img_width=img_width,\n",
    "            img_height=img_height,\n",
    "            h_activation=h_activation, \n",
    "            o_activation=o_activation, \n",
    "            device=device,  \n",
    "        )\n",
    "\n",
    "model.load(model_file)"
   ]
  },
  {
   "cell_type": "code",
   "execution_count": null,
   "id": "e89ba502",
   "metadata": {},
   "outputs": [],
   "source": [
    "validation_input_dir = \"/home/ralampay/Pictures/jetfighters/validation/input\"\n",
    "\n",
    "X = load_image_tensors(validation_input_dir, img_width, img_height)\n",
    "X = X.to(device)"
   ]
  },
  {
   "cell_type": "code",
   "execution_count": null,
   "id": "22c25b47",
   "metadata": {},
   "outputs": [],
   "source": [
    "Y = model.forward(X).detach().cpu().numpy()\n",
    "\n",
    "for img in Y:\n",
    "    result = img.transpose((1, 2, 0))\n",
    "    plt.imshow(result)\n",
    "    plt.show()"
   ]
  },
  {
   "cell_type": "code",
   "execution_count": null,
   "id": "5c3e72d7",
   "metadata": {},
   "outputs": [],
   "source": []
  },
  {
   "cell_type": "code",
   "execution_count": null,
   "id": "371045e7",
   "metadata": {},
   "outputs": [],
   "source": []
  }
 ],
 "metadata": {
  "kernelspec": {
   "display_name": "Python 3 (ipykernel)",
   "language": "python",
   "name": "python3"
  },
  "language_info": {
   "codemirror_mode": {
    "name": "ipython",
    "version": 3
   },
   "file_extension": ".py",
   "mimetype": "text/x-python",
   "name": "python",
   "nbconvert_exporter": "python",
   "pygments_lexer": "ipython3",
   "version": "3.9.7"
  }
 },
 "nbformat": 4,
 "nbformat_minor": 5
}
