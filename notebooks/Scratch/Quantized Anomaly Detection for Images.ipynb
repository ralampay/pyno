{
 "cells": [
  {
   "cell_type": "code",
   "execution_count": null,
   "id": "e83388ab",
   "metadata": {},
   "outputs": [],
   "source": [
    "# Import libraries\n",
    "import torch\n",
    "import pandas as pd\n",
    "import numpy as np\n",
    "\n",
    "import sys\n",
    "import os\n",
    "\n",
    "sys.path.append(os.path.join(os.path.abspath(''), '../pyno/lib'))\n",
    "\n",
    "from autoencoder import Autoencoder\n",
    "from auto_threshold_re import AutoThresholdRe\n",
    "from cnn_autoencoder import CnnAutoencoder"
   ]
  },
  {
   "cell_type": "code",
   "execution_count": null,
   "id": "fec261aa",
   "metadata": {},
   "outputs": [],
   "source": [
    "# Parameters\n",
    "training_file = \"/home/ralampay/workspace/pyno/data/ucsd-cnn-training.csv\"\n",
    "test_dir = \"/home/ralampay/Downloads/UCSD_Anomaly_Dataset.vip2/UCSDped1/Test/Test001/\"\n",
    "model_file = \"/home/ralampay/workspace/pyno/models/ucsd-cnn.pth\"\n",
    "layers = []\n",
    "epochs = 100\n",
    "lr = 0.001\n",
    "batch_size = 5\n",
    "device = \"cuda\"\n",
    "gpu_index = 0\n",
    "chunk_size = 100"
   ]
  },
  {
   "cell_type": "code",
   "execution_count": null,
   "id": "a8fb4b64",
   "metadata": {},
   "outputs": [],
   "source": [
    "# Train unsupervised autoencoder\n",
    "if device != \"cpu\":\n",
    "    device = \"{}:{}\".format(device, gpu_index)\n",
    "\n",
    "initial_autoencoder = Autoencoder(layers=layers, device=device)\n",
    "\n",
    "data = pd.DataFrame()\n",
    "\n",
    "for i, chunk in enumerate(pd.read_csv(training_file, header=None, chunksize=chunk_size)):\n",
    "    data = data.append(chunk)\n",
    "    \n",
    "x = torch.tensor(data.values).float().to(device)\n",
    "\n",
    "initial_autoencoder.fit(x, epochs=epochs, lr=lr, batch_size=batch_size)\n",
    "\n",
    "x_hat = initial_autoencoder.forward(x)\n",
    "\n",
    "err = (x_hat - x).pow(2).sum(dim=1).sqrt()\n",
    "\n",
    "err_values = err.detach().cpu().numpy()\n",
    "bool_array = err_values >= initial_autoencoder.reconstruction_threshold.detach().cpu().numpy()\n",
    "\n",
    "predictions = np.array([-1 if elem else 1 for elem in bool_array])\n",
    "\n",
    "data_values = data.values\n",
    "\n",
    "filtered_data = pd.DataFrame()\n",
    "\n",
    "for i in range(len(predictions)):\n",
    "    if predictions[i] != -1:\n",
    "        filtered_data = filtered_data.append([data_values[i]])\n",
    "        \n",
    "print(\"Reduced data from {} to {}\".format(len(data), len(filtered_data)))\n",
    "\n",
    "autoencoder = Autoencoder(layers=layers, device=device)\n",
    "\n",
    "filtered_data_values = filtered_data.values\n",
    "\n",
    "x = torch.tensor(filtered_data_values).float().to(device)\n",
    "\n",
    "autoencoder.fit(x, epochs=epochs, lr=lr, batch_size=batch_size)\n",
    "\n",
    "autothreshold_ops = AutoThresholdRe(x, autoencoder)\n",
    "autothreshold_ops.execute()\n",
    "\n",
    "anomaly_threshold = autothreshold_ops.optimal_threshold"
   ]
  },
  {
   "cell_type": "code",
   "execution_count": null,
   "id": "322da503",
   "metadata": {},
   "outputs": [],
   "source": [
    "# Quantize test frames\n",
    "\n",
    "scale\n",
    "channel_maps\n",
    "padding\n",
    "kernel_size\n",
    "num_channels\n",
    "img_width\n",
    "img_height"
   ]
  },
  {
   "cell_type": "code",
   "execution_count": null,
   "id": "d790f2ec",
   "metadata": {},
   "outputs": [],
   "source": [
    "# Detect anomalies"
   ]
  }
 ],
 "metadata": {
  "kernelspec": {
   "display_name": "Python 3 (ipykernel)",
   "language": "python",
   "name": "python3"
  },
  "language_info": {
   "codemirror_mode": {
    "name": "ipython",
    "version": 3
   },
   "file_extension": ".py",
   "mimetype": "text/x-python",
   "name": "python",
   "nbconvert_exporter": "python",
   "pygments_lexer": "ipython3",
   "version": "3.9.7"
  }
 },
 "nbformat": 4,
 "nbformat_minor": 5
}
