{
 "cells": [
  {
   "cell_type": "markdown",
   "id": "fd8645fe",
   "metadata": {},
   "source": [
    "# Data Cleaning and Normalization\n",
    "\n",
    "Routines for cleaning and normalizing data for processing.\n",
    "\n",
    "Objectives:\n",
    "\n",
    "1. Reading a CSV file and representing it as a pandas data frame\n",
    "2. Normalizing original data frame and transforming to independent data frame\n",
    "3. Transforming data frame to forma readable by autoencoder"
   ]
  },
  {
   "cell_type": "code",
   "execution_count": null,
   "id": "e064d925",
   "metadata": {},
   "outputs": [],
   "source": [
    "# Import necessary libraries and path relative to project\n",
    "import pandas as pd\n",
    "from sklearn.preprocessing import MinMaxScaler"
   ]
  },
  {
   "cell_type": "markdown",
   "id": "04f520c4",
   "metadata": {},
   "source": [
    "## Importing Data"
   ]
  },
  {
   "cell_type": "code",
   "execution_count": null,
   "id": "702fc169",
   "metadata": {},
   "outputs": [],
   "source": [
    "# Instantiate pandas DataFrame\n",
    "data = pd.DataFrame()\n",
    "\n",
    "# Chunk size for reading data\n",
    "chunksize = 10000\n",
    "\n",
    "# The reference to the dataset. Change this to \n",
    "dataset_file = '../data/creditcardfraud_raw.csv'\n",
    "\n",
    "print(\"Loading dataset '{}'...\".format(dataset_file))\n",
    "\n",
    "# Read each chunk and append to data frame\n",
    "for i, chunk in enumerate(pd.read_csv(dataset_file, chunksize=chunksize)):\n",
    "    print(\"Reading chunk %d\" % (i + 1))\n",
    "    data = data.append(chunk)\n",
    "\n",
    "print(\"Done loading dataset...\")\n",
    "    \n",
    "# Check for proper value of input dimensionality to be used by model\n",
    "input_dim = len(data.columns) - 1\n",
    "print(\"Input Dimensionality: %d\" % (input_dim))\n",
    "print(data)\n",
    "print(\"Dropping Time column\")\n",
    "data = data.drop(['Time'], axis=1)\n",
    "print(data)"
   ]
  },
  {
   "cell_type": "markdown",
   "id": "acd7447c",
   "metadata": {},
   "source": [
    "## Normalizing the data with `MinMaxScalar`"
   ]
  },
  {
   "cell_type": "code",
   "execution_count": null,
   "id": "fae6b959",
   "metadata": {},
   "outputs": [],
   "source": [
    "# create a scaler object\n",
    "scaler = MinMaxScaler()\n",
    "\n",
    "# fit and transform the data\n",
    "df_norm = pd.DataFrame(scaler.fit_transform(data), columns=data.columns)\n",
    "\n",
    "print(df_norm)"
   ]
  }
 ],
 "metadata": {
  "kernelspec": {
   "display_name": "Python 3 (ipykernel)",
   "language": "python",
   "name": "python3"
  },
  "language_info": {
   "codemirror_mode": {
    "name": "ipython",
    "version": 3
   },
   "file_extension": ".py",
   "mimetype": "text/x-python",
   "name": "python",
   "nbconvert_exporter": "python",
   "pygments_lexer": "ipython3",
   "version": "3.9.5"
  }
 },
 "nbformat": 4,
 "nbformat_minor": 5
}
