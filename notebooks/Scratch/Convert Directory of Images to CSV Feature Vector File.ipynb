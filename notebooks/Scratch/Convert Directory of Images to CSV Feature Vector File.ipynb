{
 "cells": [
  {
   "cell_type": "markdown",
   "id": "35f0c84b",
   "metadata": {},
   "source": [
    "# Convert Directory of Images to CSV Feature Vector File\n",
    "\n",
    "Utility to convert a given directory of images into feature vectors and save in a csv file."
   ]
  },
  {
   "cell_type": "code",
   "execution_count": null,
   "id": "5d3672f9",
   "metadata": {},
   "outputs": [],
   "source": [
    "# Import necessary libraries\n",
    "import pandas as pd\n",
    "import numpy as np\n",
    "import glob\n",
    "import sys\n",
    "import os\n",
    "import cv2\n",
    "from matplotlib import pyplot as plt\n",
    "\n",
    "sys.path.append(os.path.join(os.path.abspath(''), '../pyno/lib'))\n",
    "\n",
    "from cv.utils import fetch_patches\n",
    "from cv.features import covariance_grid_vector"
   ]
  },
  {
   "cell_type": "markdown",
   "id": "6857c3e4",
   "metadata": {},
   "source": [
    "## Input Parameters"
   ]
  },
  {
   "cell_type": "code",
   "execution_count": null,
   "id": "c7d97e5c",
   "metadata": {},
   "outputs": [],
   "source": [
    "input_dir = \"/home/ralampay/Downloads/Train/Train001\"\n",
    "file_ext = \".jpg\"\n",
    "cell_width = 80\n",
    "cell_height = 80\n",
    "output_file = \"~/Desktop/Train001.csv\""
   ]
  },
  {
   "cell_type": "code",
   "execution_count": null,
   "id": "df64d22b",
   "metadata": {},
   "outputs": [],
   "source": [
    "data = []\n",
    "\n",
    "for filename in glob.glob('{}/*{}'.format(input_dir, file_ext)):\n",
    "    print(\"Processing {}...\".format(filename))\n",
    "    im = cv2.imread(filename)\n",
    "    features = covariance_grid_vector(im, cell_width, cell_height)\n",
    "    \n",
    "    data.append(features)\n",
    "    \n",
    "data = np.array(data)\n",
    "\n",
    "df = pd.DataFrame(np.array(data))\n",
    "\n",
    "print(df)"
   ]
  },
  {
   "cell_type": "code",
   "execution_count": null,
   "id": "9c285429",
   "metadata": {},
   "outputs": [],
   "source": [
    "# save to CSV file\n",
    "df.to_csv(output_file, index=False, header=False)"
   ]
  }
 ],
 "metadata": {
  "kernelspec": {
   "display_name": "Python 3 (ipykernel)",
   "language": "python",
   "name": "python3"
  },
  "language_info": {
   "codemirror_mode": {
    "name": "ipython",
    "version": 3
   },
   "file_extension": ".py",
   "mimetype": "text/x-python",
   "name": "python",
   "nbconvert_exporter": "python",
   "pygments_lexer": "ipython3",
   "version": "3.9.5"
  }
 },
 "nbformat": 4,
 "nbformat_minor": 5
}
