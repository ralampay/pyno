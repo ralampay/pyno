{
 "cells": [
  {
   "cell_type": "code",
   "execution_count": null,
   "id": "d5956f80",
   "metadata": {},
   "outputs": [],
   "source": [
    "# Import necessary libraries and path relative to project\n",
    "import torch\n",
    "import pandas as pd\n",
    "import numpy as np\n",
    "from sklearn.metrics import confusion_matrix\n",
    "from sklearn.ensemble import IsolationForest\n",
    "\n",
    "import sys\n",
    "import os\n",
    "\n",
    "sys.path.append(os.path.join(os.path.abspath(''), '../pyno/lib'))\n",
    "\n",
    "from autoencoder import Autoencoder"
   ]
  },
  {
   "cell_type": "code",
   "execution_count": null,
   "id": "58ef56b0",
   "metadata": {},
   "outputs": [],
   "source": [
    "data_file = \"https://happy-research.s3.ap-southeast-1.amazonaws.com/annthyroid.csv\"\n",
    "chunk_size = 1000\n",
    "percent_anomaly = 0.05\n",
    "percent_training = 0.7\n",
    "data = pd.DataFrame()\n",
    "\n",
    "for i, chunk in enumerate(pd.read_csv(data_file, header=None, chunksize=chunk_size)):\n",
    "    data = data.append(chunk)\n",
    "\n",
    "input_dim = len(data.columns) - 1\n",
    "\n",
    "training_partition = data.sample(frac=percent_training)\n",
    "validation_partition = data.drop(training_partition.index)\n",
    "\n",
    "print(training_partition[training_partition[input_dim] == -1])\n",
    "\n",
    "training_data = training_partition.iloc[:,:input_dim]\n",
    "validation_data = data.drop(training_data.index)\n",
    "\n",
    "validation_data_raw = validation_data.iloc[:,:input_dim]\n",
    "validation_data_labels = validation_data.iloc[:,-1].to_numpy()"
   ]
  },
  {
   "cell_type": "code",
   "execution_count": null,
   "id": "e6361018",
   "metadata": {},
   "outputs": [],
   "source": [
    "random_states = [10, 20, 30, 40, 50, 60, 70, 80, 90, 100, 110, 120, 130, 140, 150, 160, 170, 180, 190, 200]\n",
    "\n",
    "for random_state in random_states:\n",
    "    clf = IsolationForest(random_state=random_state)\n",
    "    clf.fit(training_data)\n",
    "    predictions = clf.fit_predict(validation_data_raw)\n",
    "    tn, fp, fn, tp = np.array(confusion_matrix(validation_data_labels, predictions).ravel(), dtype=np.float64)\n",
    "    print(tn, fp, fn, tp)"
   ]
  },
  {
   "cell_type": "code",
   "execution_count": null,
   "id": "ddb0fada",
   "metadata": {},
   "outputs": [],
   "source": []
  },
  {
   "cell_type": "code",
   "execution_count": null,
   "id": "58f793c2",
   "metadata": {},
   "outputs": [],
   "source": [
    "\n"
   ]
  },
  {
   "cell_type": "code",
   "execution_count": null,
   "id": "6f75796f",
   "metadata": {},
   "outputs": [],
   "source": []
  }
 ],
 "metadata": {
  "kernelspec": {
   "display_name": "Python 3 (ipykernel)",
   "language": "python",
   "name": "python3"
  },
  "language_info": {
   "codemirror_mode": {
    "name": "ipython",
    "version": 3
   },
   "file_extension": ".py",
   "mimetype": "text/x-python",
   "name": "python",
   "nbconvert_exporter": "python",
   "pygments_lexer": "ipython3",
   "version": "3.9.5"
  }
 },
 "nbformat": 4,
 "nbformat_minor": 5
}
