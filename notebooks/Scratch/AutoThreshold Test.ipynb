{
 "cells": [
  {
   "cell_type": "markdown",
   "id": "6464f1bd",
   "metadata": {},
   "source": [
    "# AutoThreshold Test\n",
    "\n",
    "Notebook for testing class `AutoThresholdRe` features namely:\n",
    "\n",
    "1. Passing a pre-trained autoencoder to determine threshold\n",
    "2. Apply classification for anomalous data\n",
    "3. Measure performance\n",
    "\n",
    "In this example, we will be training the `creditcardfraud.csv` with an autoencoder. The `AutoThresholdRe` class will be utilized to determine an automatic threshold to determine anomalous data."
   ]
  },
  {
   "cell_type": "code",
   "execution_count": null,
   "id": "daaa2a37",
   "metadata": {},
   "outputs": [],
   "source": [
    "# Import necessary libraries and path relative to project\n",
    "import torch\n",
    "import pandas as pd\n",
    "import numpy as np\n",
    "\n",
    "import sys\n",
    "import os\n",
    "\n",
    "sys.path.append(os.path.join(os.path.abspath(''), '../pyno/lib'))\n",
    "\n",
    "from autoencoder import Autoencoder\n",
    "from auto_threshold_re import AutoThresholdRe"
   ]
  },
  {
   "cell_type": "markdown",
   "id": "64a86016",
   "metadata": {},
   "source": [
    "## Autoencoder Training\n",
    "\n",
    "Similar to Autoencoder Test, train an autoencoder with topology `[29, 27, 25]` against the credit card dataset."
   ]
  },
  {
   "cell_type": "code",
   "execution_count": null,
   "id": "3ae274af",
   "metadata": {},
   "outputs": [],
   "source": [
    "# The topology of the model from input layer to innermost latent layer\n",
    "layers = [29, 27, 25]\n",
    "\n",
    "h_activation = 'relu'\n",
    "o_activation = 'sigmoid'\n",
    "device = torch.device('cpu')\n",
    "error_type = 'mse'\n",
    "optimizer_type = 'adam'\n",
    "\n",
    "# Initialize the autoencoder\n",
    "autoencoder = Autoencoder(\n",
    "                layers=layers, \n",
    "                h_activation=h_activation, \n",
    "                o_activation=o_activation, \n",
    "                device=device, \n",
    "                error_type=error_type, \n",
    "                optimizer_type=optimizer_type)\n",
    "\n",
    "# Instantiate pandas DataFrame\n",
    "data = pd.DataFrame()\n",
    "\n",
    "# Chunk size for reading data\n",
    "chunksize = 10000\n",
    "\n",
    "# The reference to the dataset. Change this to \n",
    "dataset_file = '../data/creditcardfraud.csv'\n",
    "\n",
    "print(\"Loading dataset '{}'...\".format(dataset_file))\n",
    "\n",
    "# Read each chunk and append to data frame\n",
    "for i, chunk in enumerate(pd.read_csv(dataset_file, header=None, chunksize=chunksize)):\n",
    "    print(\"Reading chunk %d\" % (i + 1))\n",
    "    data = data.append(chunk)\n",
    "\n",
    "print(\"Done loading dataset...\")\n",
    "    \n",
    "# Check for proper value of input dimensionality to be used by model\n",
    "input_dim = len(data.columns) - 1\n",
    "print(\"Input Dimensionality: %d\" % (input_dim))\n",
    "\n",
    "# Partition the data into positive_data and negative_data\n",
    "positive_data = data[data[input_dim] == 1].iloc[:,:input_dim]\n",
    "negative_data = data[data[input_dim] == -1].iloc[:,:input_dim]\n",
    "\n",
    "# x representing all data regardless of label.\n",
    "# Need to convert it to a tensor before passing it to the model for training\n",
    "x = torch.tensor(positive_data.values).float()\n",
    "\n",
    "epochs = 100\n",
    "lr = 0.005\n",
    "batch_size = 10000\n",
    "\n",
    "autoencoder.fit(\n",
    "    x, \n",
    "    epochs=epochs, \n",
    "    lr=lr,\n",
    "    batch_size=batch_size)"
   ]
  },
  {
   "cell_type": "markdown",
   "id": "52655eb6",
   "metadata": {},
   "source": [
    "## AutoThreshold computation\n",
    "\n",
    "Creates an instance of `AutoThresholdRe` and compute based on the initial training data."
   ]
  },
  {
   "cell_type": "code",
   "execution_count": null,
   "id": "634cbbbd",
   "metadata": {},
   "outputs": [],
   "source": [
    "cmd = AutoThresholdRe(x, autoencoder)\n",
    "cmd.execute()\n",
    "\n",
    "print(\"Optimal Threshold: {}\".format(cmd.optimal_threshold))"
   ]
  },
  {
   "cell_type": "markdown",
   "id": "cf7ee7e3",
   "metadata": {},
   "source": [
    "## Classification with AutoThresholdRe\n",
    "\n",
    "Use the `predict(x)` method of `AutoTresholdRe` to classify data as either normal (`1`) or anomalous (`-1`) using the `optimal_threshold` defined in the class. `x` should be a tensor variable in pytorch while the `predict` returns numpy array.\n",
    "\n",
    "In the code below, we are passing all anomalous data and see if the model can classify it correctly as `-1`."
   ]
  },
  {
   "cell_type": "code",
   "execution_count": null,
   "id": "97e9c9f9",
   "metadata": {},
   "outputs": [],
   "source": [
    "outliers = torch.tensor(negative_data.values).float()\n",
    "\n",
    "predictions = cmd.predict(outliers)\n",
    "\n",
    "print(predictions)"
   ]
  },
  {
   "cell_type": "code",
   "execution_count": null,
   "id": "f6604a32",
   "metadata": {},
   "outputs": [],
   "source": [
    "diffs = cmd.predict(x)\n",
    "print(diffs)"
   ]
  },
  {
   "cell_type": "code",
   "execution_count": null,
   "id": "c41c4872",
   "metadata": {},
   "outputs": [],
   "source": []
  }
 ],
 "metadata": {
  "kernelspec": {
   "display_name": "Python 3 (ipykernel)",
   "language": "python",
   "name": "python3"
  },
  "language_info": {
   "codemirror_mode": {
    "name": "ipython",
    "version": 3
   },
   "file_extension": ".py",
   "mimetype": "text/x-python",
   "name": "python",
   "nbconvert_exporter": "python",
   "pygments_lexer": "ipython3",
   "version": "3.9.5"
  }
 },
 "nbformat": 4,
 "nbformat_minor": 5
}
