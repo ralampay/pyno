{
 "cells": [
  {
   "cell_type": "code",
   "execution_count": null,
   "id": "d5956f80",
   "metadata": {},
   "outputs": [],
   "source": [
    "# Import necessary libraries and path relative to project\n",
    "import torch\n",
    "import pandas as pd\n",
    "import numpy as np\n",
    "\n",
    "from sklearn.cluster import DBSCAN\n",
    "\n",
    "import sys\n",
    "import os\n",
    "\n",
    "sys.path.append(os.path.join(os.path.abspath(''), '../pyno/lib'))\n",
    "\n",
    "from autoencoder import Autoencoder"
   ]
  },
  {
   "cell_type": "code",
   "execution_count": null,
   "id": "58ef56b0",
   "metadata": {},
   "outputs": [],
   "source": [
    "data_file = \"https://happy-research.s3.ap-southeast-1.amazonaws.com/waveform.csv\"\n",
    "chunk_size = 1000\n",
    "percent_anomaly = 0.05\n",
    "percent_training = 0.7\n",
    "data = pd.DataFrame()\n",
    "\n",
    "for i, chunk in enumerate(pd.read_csv(data_file, header=None, chunksize=chunk_size)):\n",
    "    data = data.append(chunk)\n",
    "\n",
    "input_dim = len(data.columns) - 1\n",
    "\n",
    "training_partition = data.sample(frac=percent_training)\n",
    "validation_partition = data.drop(training_partition.index)\n",
    "\n",
    "print(training_partition[training_partition[input_dim] == -1])\n",
    "\n",
    "training_data = training_partition.iloc[:,:input_dim]\n",
    "validation_data = data.drop(training_data.index)\n",
    "\n",
    "validation_data_raw = validation_data.iloc[:,:input_dim]\n",
    "validation_data_labels = validation_data.iloc[:,-1:]"
   ]
  },
  {
   "cell_type": "code",
   "execution_count": null,
   "id": "8616238b",
   "metadata": {},
   "outputs": [],
   "source": [
    "eps = 3\n",
    "min_samples = 5\n",
    "print(validation_data_raw)\n",
    "for i in range(100):\n",
    "    clustering = DBSCAN(eps=eps, min_samples=(i+1)).fit(validation_data_raw)\n",
    "    print(clustering.labels_)"
   ]
  },
  {
   "cell_type": "code",
   "execution_count": null,
   "id": "58f793c2",
   "metadata": {},
   "outputs": [],
   "source": []
  }
 ],
 "metadata": {
  "kernelspec": {
   "display_name": "Python 3 (ipykernel)",
   "language": "python",
   "name": "python3"
  },
  "language_info": {
   "codemirror_mode": {
    "name": "ipython",
    "version": 3
   },
   "file_extension": ".py",
   "mimetype": "text/x-python",
   "name": "python",
   "nbconvert_exporter": "python",
   "pygments_lexer": "ipython3",
   "version": "3.9.5"
  }
 },
 "nbformat": 4,
 "nbformat_minor": 5
}
