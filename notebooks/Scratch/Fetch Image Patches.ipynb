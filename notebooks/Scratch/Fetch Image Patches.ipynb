{
 "cells": [
  {
   "cell_type": "markdown",
   "id": "27635ab0",
   "metadata": {},
   "source": [
    "# Fetch Image Patches\n",
    "\n",
    "A test to divide an image into several patches based on `cell_height` and `cell_width`."
   ]
  },
  {
   "cell_type": "code",
   "execution_count": null,
   "id": "c4434387",
   "metadata": {},
   "outputs": [],
   "source": [
    "import sys\n",
    "import os\n",
    "import cv2\n",
    "from matplotlib import pyplot as plt\n",
    "\n",
    "sys.path.append(os.path.join(os.path.abspath(''), '../pyno/lib'))\n",
    "\n",
    "from cv.utils import fetch_patches"
   ]
  },
  {
   "cell_type": "code",
   "execution_count": null,
   "id": "04ebb23a",
   "metadata": {},
   "outputs": [],
   "source": [
    "image = cv2.imread(\"./images/00001.jpg\")\n",
    "gray = cv2.cvtColor(image, cv2.COLOR_BGR2GRAY)\n",
    "\n",
    "cell_width = 80\n",
    "cell_height = 80\n",
    "\n",
    "cells = fetch_patches(gray, cell_width, cell_height)\n",
    "\n",
    "print(gray.shape)\n",
    "print(len(cells))"
   ]
  },
  {
   "cell_type": "code",
   "execution_count": null,
   "id": "1044ec76",
   "metadata": {},
   "outputs": [],
   "source": [
    "for cell in cells:\n",
    "    plt.imshow(cell)\n",
    "    plt.show()"
   ]
  },
  {
   "cell_type": "markdown",
   "id": "7a94d43a",
   "metadata": {},
   "source": []
  },
  {
   "cell_type": "code",
   "execution_count": null,
   "id": "76363bc6",
   "metadata": {},
   "outputs": [],
   "source": []
  }
 ],
 "metadata": {
  "kernelspec": {
   "display_name": "Python 3 (ipykernel)",
   "language": "python",
   "name": "python3"
  },
  "language_info": {
   "codemirror_mode": {
    "name": "ipython",
    "version": 3
   },
   "file_extension": ".py",
   "mimetype": "text/x-python",
   "name": "python",
   "nbconvert_exporter": "python",
   "pygments_lexer": "ipython3",
   "version": "3.9.5"
  }
 },
 "nbformat": 4,
 "nbformat_minor": 5
}
